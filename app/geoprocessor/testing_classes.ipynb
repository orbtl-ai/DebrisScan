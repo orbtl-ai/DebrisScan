{
 "cells": [
  {
   "cell_type": "code",
   "execution_count": 1,
   "metadata": {},
   "outputs": [],
   "source": [
    "import os"
   ]
  },
  {
   "cell_type": "markdown",
   "metadata": {},
   "source": []
  },
  {
   "cell_type": "code",
   "execution_count": 26,
   "metadata": {},
   "outputs": [],
   "source": [
    "class UserSubmission:\n",
    "    def __init__(self, project_dir):\n",
    "        self.project_dir\n",
    "        self.submission_metadata = os.path.join(self.project_dir, \"user_submission.json\")\n",
    "\n",
    "        self._processors = {\n",
    "            'geoexif': GeoExifProcessor(),\n",
    "            'georef': GeoRefProcessor(),\n",
    "            'nongeo': NonGeoProcessor()\n",
    "        }\n",
    "\n",
    "    # prepare project folders, label_map, and sensor_parameters\n",
    "    def prep_project_dir(self):\n",
    "        \"\"\"Given the project_dir, create dirs for storing temporary results and outputs\"\"\"\n",
    "\n",
    "    def prep_sensor_params(self):\n",
    "        \"\"\n",
    "    # load parameters\n",
    "    def extract_metadata(self):\n",
    "        \"\"\"Given the submission_metadata, load all relevant parameters\"\"\"\n",
    "\n",
    "    # loop over images\n",
    "    def process_images(self):\n",
    "        \"\"\"Given the project_dir, loop over images, determine image type, and route to the \n",
    "        relevant processor\"\"\"\n",
    "    \n",
    "    def _determine_image_type(self, image):\n",
    "        \"\"\"Determine if an image is orthorectified, contains GeoExif metadata, or has neither.\"\"\"\n",
    "\n",
    "class ImageProcessor:\n",
    "    def __init__(self, image):\n",
    "        self.image = image\n",
    "        print(\"BaseProcessor __init__\")\n",
    "\n",
    "    def process(self):\n",
    "        print(f\"Processing {self.image}\")\n",
    "\n",
    "    def print_image_name(self):\n",
    "        print(self.image)\n",
    "\n",
    "class GeoExifProcessor(ImageProcessor):\n",
    "    def print_exif():\n",
    "        print(\"exif\")\n",
    "\n",
    "class GeoRefProcessor(ImageProcessor):\n",
    "    def print_geo(self):\n",
    "        print(\"geo\")\n",
    "\n"
   ]
  },
  {
   "cell_type": "code",
   "execution_count": 25,
   "metadata": {},
   "outputs": [
    {
     "name": "stdout",
     "output_type": "stream",
     "text": [
      "BaseProcessor __init__\n",
      "my_image.tif\n",
      "geo:\n"
     ]
    }
   ],
   "source": [
    "georefprocessor = GeoRefProcessor(\"my_image.tif\")\n",
    "\n",
    "georefprocessor.print_image_name()\n",
    "georefprocessor.print_geo()"
   ]
  },
  {
   "cell_type": "code",
   "execution_count": null,
   "metadata": {},
   "outputs": [],
   "source": []
  },
  {
   "cell_type": "code",
   "execution_count": null,
   "metadata": {},
   "outputs": [],
   "source": []
  }
 ],
 "metadata": {
  "kernelspec": {
   "display_name": "Python 3",
   "language": "python",
   "name": "python3"
  },
  "language_info": {
   "codemirror_mode": {
    "name": "ipython",
    "version": 3
   },
   "file_extension": ".py",
   "mimetype": "text/x-python",
   "name": "python",
   "nbconvert_exporter": "python",
   "pygments_lexer": "ipython3",
   "version": "3.11.6"
  }
 },
 "nbformat": 4,
 "nbformat_minor": 2
}
